{
 "cells": [
  {
   "cell_type": "code",
   "execution_count": 1,
   "metadata": {},
   "outputs": [],
   "source": [
    " # Dependencies\n",
    "import pandas as pd\n",
    "import matplotlib.pyplot as plt\n",
    "import requests\n",
    "from scipy import stats\n",
    "import numpy as np"
   ]
  },
  {
   "cell_type": "code",
   "execution_count": 2,
   "metadata": {},
   "outputs": [
    {
     "data": {
      "text/html": [
       "<div>\n",
       "<style scoped>\n",
       "    .dataframe tbody tr th:only-of-type {\n",
       "        vertical-align: middle;\n",
       "    }\n",
       "\n",
       "    .dataframe tbody tr th {\n",
       "        vertical-align: top;\n",
       "    }\n",
       "\n",
       "    .dataframe thead th {\n",
       "        text-align: right;\n",
       "    }\n",
       "</style>\n",
       "<table border=\"1\" class=\"dataframe\">\n",
       "  <thead>\n",
       "    <tr style=\"text-align: right;\">\n",
       "      <th></th>\n",
       "      <th>Vehicle ID</th>\n",
       "      <th>Year</th>\n",
       "      <th>Make</th>\n",
       "      <th>Model</th>\n",
       "      <th>Class</th>\n",
       "      <th>Drive</th>\n",
       "      <th>Transmission</th>\n",
       "      <th>Transmission Descriptor</th>\n",
       "      <th>Engine Index</th>\n",
       "      <th>Engine Descriptor</th>\n",
       "      <th>...</th>\n",
       "      <th>Hours to Charge (AC 240V)</th>\n",
       "      <th>Composite City MPG</th>\n",
       "      <th>Composite Highway MPG</th>\n",
       "      <th>Composite Combined MPG</th>\n",
       "      <th>Range (FT1)</th>\n",
       "      <th>City Range (FT1)</th>\n",
       "      <th>Highway Range (FT1)</th>\n",
       "      <th>Range (FT2)</th>\n",
       "      <th>City Range (FT2)</th>\n",
       "      <th>Highway Range (FT2)</th>\n",
       "    </tr>\n",
       "  </thead>\n",
       "  <tbody>\n",
       "    <tr>\n",
       "      <th>0</th>\n",
       "      <td>26587</td>\n",
       "      <td>1984</td>\n",
       "      <td>Alfa Romeo</td>\n",
       "      <td>GT V6 2.5</td>\n",
       "      <td>Minicompact Cars</td>\n",
       "      <td>NaN</td>\n",
       "      <td>Manual 5-Speed</td>\n",
       "      <td>NaN</td>\n",
       "      <td>9001</td>\n",
       "      <td>(FFS)</td>\n",
       "      <td>...</td>\n",
       "      <td>0.0</td>\n",
       "      <td>0</td>\n",
       "      <td>0</td>\n",
       "      <td>0</td>\n",
       "      <td>0</td>\n",
       "      <td>0.0</td>\n",
       "      <td>0.0</td>\n",
       "      <td>NaN</td>\n",
       "      <td>0.0</td>\n",
       "      <td>0.0</td>\n",
       "    </tr>\n",
       "    <tr>\n",
       "      <th>1</th>\n",
       "      <td>27705</td>\n",
       "      <td>1984</td>\n",
       "      <td>Alfa Romeo</td>\n",
       "      <td>GT V6 2.5</td>\n",
       "      <td>Minicompact Cars</td>\n",
       "      <td>NaN</td>\n",
       "      <td>Manual 5-Speed</td>\n",
       "      <td>NaN</td>\n",
       "      <td>9005</td>\n",
       "      <td>(FFS) CA model</td>\n",
       "      <td>...</td>\n",
       "      <td>0.0</td>\n",
       "      <td>0</td>\n",
       "      <td>0</td>\n",
       "      <td>0</td>\n",
       "      <td>0</td>\n",
       "      <td>0.0</td>\n",
       "      <td>0.0</td>\n",
       "      <td>NaN</td>\n",
       "      <td>0.0</td>\n",
       "      <td>0.0</td>\n",
       "    </tr>\n",
       "    <tr>\n",
       "      <th>2</th>\n",
       "      <td>26561</td>\n",
       "      <td>1984</td>\n",
       "      <td>Alfa Romeo</td>\n",
       "      <td>Spider Veloce 2000</td>\n",
       "      <td>Two Seaters</td>\n",
       "      <td>NaN</td>\n",
       "      <td>Manual 5-Speed</td>\n",
       "      <td>NaN</td>\n",
       "      <td>9002</td>\n",
       "      <td>(FFS)</td>\n",
       "      <td>...</td>\n",
       "      <td>0.0</td>\n",
       "      <td>0</td>\n",
       "      <td>0</td>\n",
       "      <td>0</td>\n",
       "      <td>0</td>\n",
       "      <td>0.0</td>\n",
       "      <td>0.0</td>\n",
       "      <td>NaN</td>\n",
       "      <td>0.0</td>\n",
       "      <td>0.0</td>\n",
       "    </tr>\n",
       "    <tr>\n",
       "      <th>3</th>\n",
       "      <td>27681</td>\n",
       "      <td>1984</td>\n",
       "      <td>Alfa Romeo</td>\n",
       "      <td>Spider Veloce 2000</td>\n",
       "      <td>Two Seaters</td>\n",
       "      <td>NaN</td>\n",
       "      <td>Manual 5-Speed</td>\n",
       "      <td>NaN</td>\n",
       "      <td>9006</td>\n",
       "      <td>(FFS) CA model</td>\n",
       "      <td>...</td>\n",
       "      <td>0.0</td>\n",
       "      <td>0</td>\n",
       "      <td>0</td>\n",
       "      <td>0</td>\n",
       "      <td>0</td>\n",
       "      <td>0.0</td>\n",
       "      <td>0.0</td>\n",
       "      <td>NaN</td>\n",
       "      <td>0.0</td>\n",
       "      <td>0.0</td>\n",
       "    </tr>\n",
       "    <tr>\n",
       "      <th>4</th>\n",
       "      <td>27550</td>\n",
       "      <td>1984</td>\n",
       "      <td>AM General</td>\n",
       "      <td>DJ Po Vehicle 2WD</td>\n",
       "      <td>Special Purpose Vehicle 2WD</td>\n",
       "      <td>2-Wheel Drive</td>\n",
       "      <td>Automatic 3-Speed</td>\n",
       "      <td>NaN</td>\n",
       "      <td>1830</td>\n",
       "      <td>(FFS)</td>\n",
       "      <td>...</td>\n",
       "      <td>0.0</td>\n",
       "      <td>0</td>\n",
       "      <td>0</td>\n",
       "      <td>0</td>\n",
       "      <td>0</td>\n",
       "      <td>0.0</td>\n",
       "      <td>0.0</td>\n",
       "      <td>NaN</td>\n",
       "      <td>0.0</td>\n",
       "      <td>0.0</td>\n",
       "    </tr>\n",
       "  </tbody>\n",
       "</table>\n",
       "<p>5 rows × 81 columns</p>\n",
       "</div>"
      ],
      "text/plain": [
       "   Vehicle ID  Year        Make               Model  \\\n",
       "0       26587  1984  Alfa Romeo           GT V6 2.5   \n",
       "1       27705  1984  Alfa Romeo           GT V6 2.5   \n",
       "2       26561  1984  Alfa Romeo  Spider Veloce 2000   \n",
       "3       27681  1984  Alfa Romeo  Spider Veloce 2000   \n",
       "4       27550  1984  AM General   DJ Po Vehicle 2WD   \n",
       "\n",
       "                         Class          Drive       Transmission  \\\n",
       "0             Minicompact Cars            NaN     Manual 5-Speed   \n",
       "1             Minicompact Cars            NaN     Manual 5-Speed   \n",
       "2                  Two Seaters            NaN     Manual 5-Speed   \n",
       "3                  Two Seaters            NaN     Manual 5-Speed   \n",
       "4  Special Purpose Vehicle 2WD  2-Wheel Drive  Automatic 3-Speed   \n",
       "\n",
       "  Transmission Descriptor  Engine Index Engine Descriptor  ...  \\\n",
       "0                     NaN          9001             (FFS)  ...   \n",
       "1                     NaN          9005    (FFS) CA model  ...   \n",
       "2                     NaN          9002             (FFS)  ...   \n",
       "3                     NaN          9006    (FFS) CA model  ...   \n",
       "4                     NaN          1830             (FFS)  ...   \n",
       "\n",
       "   Hours to Charge (AC 240V)  Composite City MPG Composite Highway MPG  \\\n",
       "0                        0.0                   0                     0   \n",
       "1                        0.0                   0                     0   \n",
       "2                        0.0                   0                     0   \n",
       "3                        0.0                   0                     0   \n",
       "4                        0.0                   0                     0   \n",
       "\n",
       "  Composite Combined MPG Range (FT1) City Range (FT1) Highway Range (FT1)  \\\n",
       "0                      0           0              0.0                 0.0   \n",
       "1                      0           0              0.0                 0.0   \n",
       "2                      0           0              0.0                 0.0   \n",
       "3                      0           0              0.0                 0.0   \n",
       "4                      0           0              0.0                 0.0   \n",
       "\n",
       "   Range (FT2)  City Range (FT2)  Highway Range (FT2)  \n",
       "0          NaN               0.0                  0.0  \n",
       "1          NaN               0.0                  0.0  \n",
       "2          NaN               0.0                  0.0  \n",
       "3          NaN               0.0                  0.0  \n",
       "4          NaN               0.0                  0.0  \n",
       "\n",
       "[5 rows x 81 columns]"
      ]
     },
     "execution_count": 2,
     "metadata": {},
     "output_type": "execute_result"
    }
   ],
   "source": [
    "#Import file\n",
    "fuel_cost = pd.read_csv('Resources/database.csv', low_memory=False)\n",
    "fuel_cost.head()"
   ]
  },
  {
   "cell_type": "code",
   "execution_count": 3,
   "metadata": {},
   "outputs": [
    {
     "data": {
      "text/plain": [
       "Index(['Vehicle ID', 'Year', 'Make', 'Model', 'Class', 'Drive', 'Transmission',\n",
       "       'Transmission Descriptor', 'Engine Index', 'Engine Descriptor',\n",
       "       'Engine Cylinders', 'Engine Displacement', 'Turbocharger',\n",
       "       'Supercharger', 'Fuel Type', 'Fuel Type 1', 'Fuel Type 2',\n",
       "       'City MPG (FT1)', 'Unrounded City MPG (FT1)', 'City MPG (FT2)',\n",
       "       'Unrounded City MPG (FT2)', 'City Gasoline Consumption (CD)',\n",
       "       'City Electricity Consumption', 'City Utility Factor',\n",
       "       'Highway MPG (FT1)', 'Unrounded Highway MPG (FT1)', 'Highway MPG (FT2)',\n",
       "       'Unrounded Highway MPG (FT2)', 'Highway Gasoline Consumption (CD)',\n",
       "       'Highway Electricity Consumption', 'Highway Utility Factor',\n",
       "       'Unadjusted City MPG (FT1)', 'Unadjusted Highway MPG (FT1)',\n",
       "       'Unadjusted City MPG (FT2)', 'Unadjusted Highway MPG (FT2)',\n",
       "       'Combined MPG (FT1)', 'Unrounded Combined MPG (FT1)',\n",
       "       'Combined MPG (FT2)', 'Unrounded Combined MPG (FT2)',\n",
       "       'Combined Electricity Consumption',\n",
       "       'Combined Gasoline Consumption (CD)', 'Combined Utility Factor',\n",
       "       'Annual Fuel Cost (FT1)', 'Annual Fuel Cost (FT2)', 'Gas Guzzler Tax',\n",
       "       'Save or Spend (5 Year)', 'Annual Consumption in Barrels (FT1)',\n",
       "       'Annual Consumption in Barrels (FT2)', 'Tailpipe CO2 (FT1)',\n",
       "       'Tailpipe CO2 in Grams/Mile (FT1)', 'Tailpipe CO2 (FT2)',\n",
       "       'Tailpipe CO2 in Grams/Mile (FT2)', 'Fuel Economy Score', 'GHG Score',\n",
       "       'GHG Score (Alt Fuel)', 'My MPG Data', '2D Passenger Volume',\n",
       "       '2D Luggage Volume', '4D Passenger Volume', '4D Luggage Volume',\n",
       "       'Hatchback Passenger Volume', 'Hatchback Luggage Volume',\n",
       "       'Start Stop Technology', 'Alternative Fuel/Technology',\n",
       "       'Electric Motor', 'Manufacturer Code',\n",
       "       'Gasoline/Electricity Blended (CD)', 'Vehicle Charger',\n",
       "       'Alternate Charger', 'Hours to Charge (120V)', 'Hours to Charge (240V)',\n",
       "       'Hours to Charge (AC 240V)', 'Composite City MPG',\n",
       "       'Composite Highway MPG', 'Composite Combined MPG', 'Range (FT1)',\n",
       "       'City Range (FT1)', 'Highway Range (FT1)', 'Range (FT2)',\n",
       "       'City Range (FT2)', 'Highway Range (FT2)'],\n",
       "      dtype='object')"
      ]
     },
     "execution_count": 3,
     "metadata": {},
     "output_type": "execute_result"
    }
   ],
   "source": [
    "fuel_cost.columns"
   ]
  },
  {
   "cell_type": "code",
   "execution_count": 4,
   "metadata": {},
   "outputs": [
    {
     "data": {
      "text/html": [
       "<div>\n",
       "<style scoped>\n",
       "    .dataframe tbody tr th:only-of-type {\n",
       "        vertical-align: middle;\n",
       "    }\n",
       "\n",
       "    .dataframe tbody tr th {\n",
       "        vertical-align: top;\n",
       "    }\n",
       "\n",
       "    .dataframe thead th {\n",
       "        text-align: right;\n",
       "    }\n",
       "</style>\n",
       "<table border=\"1\" class=\"dataframe\">\n",
       "  <thead>\n",
       "    <tr style=\"text-align: right;\">\n",
       "      <th></th>\n",
       "      <th>Year</th>\n",
       "      <th>Annual Fuel Cost (FT1)</th>\n",
       "    </tr>\n",
       "  </thead>\n",
       "  <tbody>\n",
       "    <tr>\n",
       "      <th>0</th>\n",
       "      <td>1984</td>\n",
       "      <td>1750</td>\n",
       "    </tr>\n",
       "    <tr>\n",
       "      <th>1</th>\n",
       "      <td>1984</td>\n",
       "      <td>1750</td>\n",
       "    </tr>\n",
       "    <tr>\n",
       "      <th>2</th>\n",
       "      <td>1984</td>\n",
       "      <td>1650</td>\n",
       "    </tr>\n",
       "    <tr>\n",
       "      <th>3</th>\n",
       "      <td>1984</td>\n",
       "      <td>1650</td>\n",
       "    </tr>\n",
       "    <tr>\n",
       "      <th>4</th>\n",
       "      <td>1984</td>\n",
       "      <td>2050</td>\n",
       "    </tr>\n",
       "    <tr>\n",
       "      <th>...</th>\n",
       "      <td>...</td>\n",
       "      <td>...</td>\n",
       "    </tr>\n",
       "    <tr>\n",
       "      <th>38108</th>\n",
       "      <td>2017</td>\n",
       "      <td>1350</td>\n",
       "    </tr>\n",
       "    <tr>\n",
       "      <th>38109</th>\n",
       "      <td>2017</td>\n",
       "      <td>1900</td>\n",
       "    </tr>\n",
       "    <tr>\n",
       "      <th>38110</th>\n",
       "      <td>2017</td>\n",
       "      <td>1850</td>\n",
       "    </tr>\n",
       "    <tr>\n",
       "      <th>38111</th>\n",
       "      <td>2017</td>\n",
       "      <td>1700</td>\n",
       "    </tr>\n",
       "    <tr>\n",
       "      <th>38112</th>\n",
       "      <td>2017</td>\n",
       "      <td>1750</td>\n",
       "    </tr>\n",
       "  </tbody>\n",
       "</table>\n",
       "<p>38113 rows × 2 columns</p>\n",
       "</div>"
      ],
      "text/plain": [
       "       Year  Annual Fuel Cost (FT1)\n",
       "0      1984                    1750\n",
       "1      1984                    1750\n",
       "2      1984                    1650\n",
       "3      1984                    1650\n",
       "4      1984                    2050\n",
       "...     ...                     ...\n",
       "38108  2017                    1350\n",
       "38109  2017                    1900\n",
       "38110  2017                    1850\n",
       "38111  2017                    1700\n",
       "38112  2017                    1750\n",
       "\n",
       "[38113 rows x 2 columns]"
      ]
     },
     "execution_count": 4,
     "metadata": {},
     "output_type": "execute_result"
    }
   ],
   "source": [
    "#Extract columns\n",
    "cleaned_data = fuel_cost[['Year', 'Annual Fuel Cost (FT1)']]\n",
    "cleaned_data"
   ]
  },
  {
   "cell_type": "code",
   "execution_count": 5,
   "metadata": {},
   "outputs": [
    {
     "data": {
      "text/plain": [
       "Text(0.5, 1.0, 'Average Annual Fuel Cost from 1984 - 2017')"
      ]
     },
     "execution_count": 5,
     "metadata": {},
     "output_type": "execute_result"
    },
    {
     "data": {
      "image/png": "[encoded data removed]",
      "text/plain": [
       "<Figure size 432x288 with 1 Axes>"
      ]
     },
     "metadata": {
      "needs_background": "light"
     },
     "output_type": "display_data"
    }
   ],
   "source": [
    "# year = fuel_cost.loc[fuel_cost['Year']]\n",
    "#year_df = cleaned_data.groupby('Year').unique()\n",
    "years = [1984, 1985, 1986, 1987, 1988, 1989, 1990, 1991, 1992, 1993, 1994, 1995, 1996, 1997, 1998, 1999, 2000, 2001,\n",
    "        2002, 2003, 2004, 2005, 2006, 2007, 2008, 2009, 2010, 2011, 2012, 2013, 2014, 2015, 2016, 2017]\n",
    "# year = year_df['Year']\n",
    "# print(len(year))\n",
    "# print(year)\n",
    "cost = fuel_cost.groupby('Year').mean()['Annual Fuel Cost (FT1)']\n",
    "# print(len(cost))\n",
    "# print(cost)\n",
    "# print(cost.min())\n",
    "\n",
    "# plt.figure(figsize=(12,8), dpi= 100, facecolor=\"w\", edgecolor=\"k\")\n",
    "plt.plot(years, cost, marker='o')\n",
    "# plt.xticks(nparrage)\n",
    "plt.xlim(1984,2017)\n",
    "plt.ylim(1700,2100)\n",
    "plt.grid('True')\n",
    "#plt.tick_params\n",
    "#Figure out how to add more values along x axis label \n",
    "\n",
    "# Labels\n",
    "plt.xlabel(\"Year\")\n",
    "plt.ylabel(\"Average Annual Fuel Cost ($)\")\n",
    "plt.title(\"Average Annual Fuel Cost from 1984 - 2017\")"
   ]
  },
  {
   "cell_type": "code",
   "execution_count": 6,
   "metadata": {},
   "outputs": [
    {
     "data": {
      "text/plain": [
       "Text(0.5, 1.0, 'Average Annual MPG from 1984 - 2017')"
      ]
     },
     "execution_count": 6,
     "metadata": {},
     "output_type": "execute_result"
    },
    {
     "data": {
      "image/png": "[encoded data removed]",
      "text/plain": [
       "<Figure size 432x288 with 1 Axes>"
      ]
     },
     "metadata": {
      "needs_background": "light"
     },
     "output_type": "display_data"
    }
   ],
   "source": [
    "#Define new MPG variable\n",
    "mpg = fuel_cost.groupby('Year').mean()['Combined MPG (FT1)']\n",
    "\n",
    "#Plot MPG over time\n",
    "# plt.figure(figsize=(12,8), dpi= 100, facecolor=\"w\", edgecolor=\"k\")\n",
    "plt.plot(years, mpg, marker='o')\n",
    "# plt.xlim(1984,2017)\n",
    "# plt.ylim(1700,2100)\n",
    "plt.grid('True')\n",
    "#Figure out how to add more values along x axis label \n",
    "\n",
    "# Labels\n",
    "plt.xlabel(\"Year\")\n",
    "plt.ylabel(\"Average Annual MPG\")\n",
    "plt.title(\"Average Annual MPG from 1984 - 2017\")"
   ]
  },
  {
   "cell_type": "code",
   "execution_count": 7,
   "metadata": {},
   "outputs": [],
   "source": [
    "# Is there a way to stack graphs better?\n",
    "# plt.plot(years, cost, marker='o', color=\"green\")\n",
    "# plt.plot(years, mpg, marker='o', color=\"blue\")"
   ]
  },
  {
   "cell_type": "code",
   "execution_count": 8,
   "metadata": {},
   "outputs": [
    {
     "data": {
      "text/plain": [
       "array(['Alfa Romeo', 'AM General', 'American Motors Corporation',\n",
       "       'Aston Martin', 'Audi', 'Avanti Motor Corporation', 'Bertone',\n",
       "       'Bill Dovell Motor Car Company', 'Bitter Gmbh and Co. Kg', 'BMW',\n",
       "       'Buick', 'Cadillac', 'Chevrolet', 'Chrysler', 'Dodge', 'Ford',\n",
       "       'GMC', 'Grumman Olson', 'Honda', 'Import Foreign Auto Sales Inc',\n",
       "       'Isuzu', 'Jaguar', 'Jeep', 'Kenyon Corporation Of America',\n",
       "       'Lamborghini', 'Lincoln', 'Lotus', 'Maserati', 'Mazda',\n",
       "       'Mercedes-Benz', 'Mercury', 'Mitsubishi', 'Nissan', 'Oldsmobile',\n",
       "       'Peugeot', 'Pininfarina', 'Plymouth', 'Pontiac', 'Porsche',\n",
       "       'Renault', 'Rolls-Royce', 'S and S Coach Company  E.p. Dutton',\n",
       "       'Saab', 'Subaru', 'Superior Coaches Div E.p. Dutton', 'Suzuki',\n",
       "       'Toyota', 'Volkswagen', 'Volvo', 'E. P. Dutton, Inc.', 'Ferrari',\n",
       "       'Merkur', 'TVR Engineering Ltd', 'Acura', 'Autokraft Limited',\n",
       "       'Hyundai', 'Lambda Control Systems', 'London Coach Co Inc',\n",
       "       'Panther Car Company Limited', 'Texas Coach Company',\n",
       "       'Vixen Motor Company', 'Volga Associated Automobile', 'Yugo',\n",
       "       'ASC Incorporated', 'CCC Engineering', 'CX Automotive',\n",
       "       'Excalibur Autos', 'Land Rover', 'Mcevoy Motors', 'Red Shift Ltd.',\n",
       "       'Ruf Automobile Gmbh', 'Sterling', 'Aurora Cars Ltd', 'Dacia',\n",
       "       'Daihatsu', 'Eagle', 'Grumman Allied Industries',\n",
       "       'JBA Motorcars, Inc.', 'Environmental Rsch and Devp Corp',\n",
       "       'Evans Automobiles', 'General Motors', 'Geo',\n",
       "       'Laforza Automobile Inc', 'Saleen', 'Consulier Industries Inc',\n",
       "       'Infiniti', 'Lexus', 'Goldacre', 'Import Trade Services',\n",
       "       'J.K. Motors', 'PAS, Inc', 'Saturn', 'Wallace Environmental',\n",
       "       'Isis Imports Ltd', 'PAS Inc - GMC', 'Vector', 'Kia', 'Panos',\n",
       "       'Dabryan Coach Builders Inc', 'Federal Coach',\n",
       "       'Panoz Auto-Development', 'Bentley', 'Daewoo',\n",
       "       'Quantum Technologies', 'Qvale', 'Roush Performance', 'MINI',\n",
       "       'Morgan', 'BMW Alpina', 'London Taxi', 'Maybach', 'Scion',\n",
       "       'Spyker', 'Bugatti', 'Hummer', 'Saleen Performance', 'Shelby',\n",
       "       'smart', 'Tecstar, LP', 'Mahindra', 'VPG', 'Azure Dynamics', 'BYD',\n",
       "       'CODA Automotive', 'Fiat', 'Fisker', 'McLaren Automotive', 'Ram',\n",
       "       'Tesla', 'SRT', 'Mobility Ventures LLC', 'Pagani', 'Genesis'],\n",
       "      dtype=object)"
      ]
     },
     "execution_count": 8,
     "metadata": {},
     "output_type": "execute_result"
    }
   ],
   "source": [
    "fuel_cost['Make'].unique()\n",
    "#McLaren Automotive\n",
    "#Toyota"
   ]
  },
  {
   "cell_type": "code",
   "execution_count": 9,
   "metadata": {},
   "outputs": [
    {
     "data": {
      "text/plain": [
       "Year\n",
       "1984    24.051948\n",
       "1985    23.590164\n",
       "1986    21.789474\n",
       "1987    21.875000\n",
       "1988    21.422535\n",
       "1989    20.969697\n",
       "1990    20.620690\n",
       "1991    20.155172\n",
       "1992    19.948276\n",
       "1993    19.118644\n",
       "1994    20.081633\n",
       "1995    20.596774\n",
       "1996    21.236364\n",
       "1997    20.907407\n",
       "1998    20.890909\n",
       "1999    21.740000\n",
       "2000    21.563636\n",
       "2001    21.943396\n",
       "2002    22.117647\n",
       "2003    22.275862\n",
       "2004    21.375000\n",
       "2005    21.981132\n",
       "2006    21.234043\n",
       "2007    21.440000\n",
       "2008    21.142857\n",
       "2009    21.192982\n",
       "2010    21.561404\n",
       "2011    21.474576\n",
       "2012    24.203390\n",
       "2013    24.796610\n",
       "2014    25.482759\n",
       "2015    25.150943\n",
       "2016    25.760000\n",
       "2017    26.372881\n",
       "Name: Combined MPG (FT1), dtype: float64"
      ]
     },
     "execution_count": 9,
     "metadata": {},
     "output_type": "execute_result"
    }
   ],
   "source": [
    "#Extract porsche and toyota data\n",
    "p_data = fuel_cost.loc[fuel_cost['Make'] == 'Porsche']\n",
    "t_data = fuel_cost.loc[fuel_cost['Make'] == 'Toyota']\n",
    "\n",
    "#Create graph for porsche MPG\n",
    "por_fcost = p_data.groupby('Year').mean()['Annual Fuel Cost (FT1)']\n",
    "por_fcost\n",
    "#Create graphy for Toyota MPG\n",
    "toy_fcost = t_data.groupby('Year').mean()['Annual Fuel Cost (FT1)']\n",
    "toy_fcost\n",
    "\n",
    "\n",
    "por_mpg = p_data.groupby('Year').mean()['Combined MPG (FT1)']\n",
    "por_mpg\n",
    "\n",
    "toy_mpg = t_data.groupby('Year').mean()['Combined MPG (FT1)']\n",
    "toy_mpg\n",
    "#Stack the graphs\n"
   ]
  },
  {
   "cell_type": "code",
   "execution_count": 10,
   "metadata": {},
   "outputs": [
    {
     "data": {
      "text/plain": [
       "Text(0.5, 1.0, 'Average Fuel Cost for Porches')"
      ]
     },
     "execution_count": 10,
     "metadata": {},
     "output_type": "execute_result"
    },
    {
     "data": {
      "image/png": "[encoded data removed]",
      "text/plain": [
       "<Figure size 432x288 with 1 Axes>"
      ]
     },
     "metadata": {
      "needs_background": "light"
     },
     "output_type": "display_data"
    }
   ],
   "source": [
    "plt.plot(years, por_fcost, marker='o', color='Red')\n",
    "\n",
    "# Label\n",
    "plt.xlabel(\"Year\")\n",
    "plt.ylabel(\"Average Annual Fuel Cost\")\n",
    "plt.title(\"Average Fuel Cost for Porches\")"
   ]
  },
  {
   "cell_type": "code",
   "execution_count": 11,
   "metadata": {},
   "outputs": [
    {
     "data": {
      "text/plain": [
       "Text(0.5, 1.0, 'Average Fuel Cost for Toyota')"
      ]
     },
     "execution_count": 11,
     "metadata": {},
     "output_type": "execute_result"
    },
    {
     "data": {
      "image/png": "[encoded data removed]",
      "text/plain": [
       "<Figure size 432x288 with 1 Axes>"
      ]
     },
     "metadata": {
      "needs_background": "light"
     },
     "output_type": "display_data"
    }
   ],
   "source": [
    "plt.plot(years, toy_fcost, marker='o', color='Purple')\n",
    "\n",
    "# Labels\n",
    "plt.xlabel(\"Year\")\n",
    "plt.ylabel(\"Average Annual Fuel Cost\")\n",
    "plt.title(\"Average Fuel Cost for Toyota\")"
   ]
  },
  {
   "cell_type": "code",
   "execution_count": 12,
   "metadata": {},
   "outputs": [
    {
     "data": {
      "image/png": "[encoded data removed]",
      "text/plain": [
       "<Figure size 432x288 with 1 Axes>"
      ]
     },
     "metadata": {
      "needs_background": "light"
     },
     "output_type": "display_data"
    }
   ],
   "source": [
    "por_plot, = plt.plot(years, por_fcost, marker='o', color='Red', label=\"Porsche\")\n",
    "toy_plot, = plt.plot(years, toy_fcost, marker='o', color='Purple', label=\"Toyota\")\n",
    "\n",
    "# Legend\n",
    "plt.legend(handles=[por_plot, toy_plot], loc=\"best\")\n",
    "\n",
    "\n",
    "# Labels\n",
    "plt.xlabel(\"Year\")\n",
    "plt.ylabel(\"Average Annual Fuel Cost\")\n",
    "plt.title(\"Average Fuel Cost for Porches VS Toyota\")\n",
    "\n",
    "plt.show()"
   ]
  },
  {
   "cell_type": "code",
   "execution_count": 13,
   "metadata": {},
   "outputs": [
    {
     "data": {
      "text/plain": [
       "Text(0.5, 1.0, 'Average MPG for Porches')"
      ]
     },
     "execution_count": 13,
     "metadata": {},
     "output_type": "execute_result"
    },
    {
     "data": {
      "image/png": "[encoded data removed]",
      "text/plain": [
       "<Figure size 432x288 with 1 Axes>"
      ]
     },
     "metadata": {
      "needs_background": "light"
     },
     "output_type": "display_data"
    }
   ],
   "source": [
    "plt.plot(years, por_mpg, marker='o', color='Red')\n",
    "\n",
    "# Label\n",
    "plt.xlabel(\"Year\")\n",
    "plt.ylabel(\"Average Annual MPG\")\n",
    "plt.title(\"Average MPG for Porches\")"
   ]
  },
  {
   "cell_type": "code",
   "execution_count": 14,
   "metadata": {},
   "outputs": [
    {
     "data": {
      "text/plain": [
       "Text(0.5, 1.0, 'Average MPG for Toyota')"
      ]
     },
     "execution_count": 14,
     "metadata": {},
     "output_type": "execute_result"
    },
    {
     "data": {
      "image/png": "[encoded data removed]",
      "text/plain": [
       "<Figure size 432x288 with 1 Axes>"
      ]
     },
     "metadata": {
      "needs_background": "light"
     },
     "output_type": "display_data"
    }
   ],
   "source": [
    "plt.plot(years, toy_mpg, marker='o', color='Purple')\n",
    "\n",
    "# Labels\n",
    "plt.xlabel(\"Year\")\n",
    "plt.ylabel(\"Average Annual MPG\")\n",
    "plt.title(\"Average MPG for Toyota\")"
   ]
  },
  {
   "cell_type": "code",
   "execution_count": 15,
   "metadata": {},
   "outputs": [
    {
     "data": {
      "image/png": "[encoded data removed]",
      "text/plain": [
       "<Figure size 432x288 with 1 Axes>"
      ]
     },
     "metadata": {
      "needs_background": "light"
     },
     "output_type": "display_data"
    }
   ],
   "source": [
    "plt.plot(years, por_mpg, marker='o', color='Red')\n",
    "plt.plot(years, toy_mpg, marker='o', color='Purple')\n",
    "\n",
    "# Legend\n",
    "plt.legend(handles=[por_plot, toy_plot], loc=\"best\")\n",
    "\n",
    "\n",
    "# Labels\n",
    "plt.xlabel(\"Year\")\n",
    "plt.ylabel(\"Average Annual MPG\")\n",
    "plt.title(\"Average MPG for Porches VS Toyota\")\n",
    "\n",
    "plt.show()\n"
   ]
  },
  {
   "cell_type": "code",
   "execution_count": 16,
   "metadata": {},
   "outputs": [
    {
     "data": {
      "text/html": [
       "<div>\n",
       "<style scoped>\n",
       "    .dataframe tbody tr th:only-of-type {\n",
       "        vertical-align: middle;\n",
       "    }\n",
       "\n",
       "    .dataframe tbody tr th {\n",
       "        vertical-align: top;\n",
       "    }\n",
       "\n",
       "    .dataframe thead th {\n",
       "        text-align: right;\n",
       "    }\n",
       "</style>\n",
       "<table border=\"1\" class=\"dataframe\">\n",
       "  <thead>\n",
       "    <tr style=\"text-align: right;\">\n",
       "      <th></th>\n",
       "      <th>Vehicle ID</th>\n",
       "      <th>Year</th>\n",
       "      <th>Make</th>\n",
       "      <th>Model</th>\n",
       "      <th>Class</th>\n",
       "      <th>Drive</th>\n",
       "      <th>Transmission</th>\n",
       "      <th>Transmission Descriptor</th>\n",
       "      <th>Engine Index</th>\n",
       "      <th>Engine Descriptor</th>\n",
       "      <th>...</th>\n",
       "      <th>Hours to Charge (AC 240V)</th>\n",
       "      <th>Composite City MPG</th>\n",
       "      <th>Composite Highway MPG</th>\n",
       "      <th>Composite Combined MPG</th>\n",
       "      <th>Range (FT1)</th>\n",
       "      <th>City Range (FT1)</th>\n",
       "      <th>Highway Range (FT1)</th>\n",
       "      <th>Range (FT2)</th>\n",
       "      <th>City Range (FT2)</th>\n",
       "      <th>Highway Range (FT2)</th>\n",
       "    </tr>\n",
       "  </thead>\n",
       "  <tbody>\n",
       "    <tr>\n",
       "      <th>36885</th>\n",
       "      <td>37378</td>\n",
       "      <td>2017</td>\n",
       "      <td>Acura</td>\n",
       "      <td>ILX</td>\n",
       "      <td>Compact Cars</td>\n",
       "      <td>Front-Wheel Drive</td>\n",
       "      <td>Auto(AM-S8)</td>\n",
       "      <td>NaN</td>\n",
       "      <td>4</td>\n",
       "      <td>SIDI</td>\n",
       "      <td>...</td>\n",
       "      <td>0.0</td>\n",
       "      <td>0</td>\n",
       "      <td>0</td>\n",
       "      <td>0</td>\n",
       "      <td>0</td>\n",
       "      <td>0.0</td>\n",
       "      <td>0.0</td>\n",
       "      <td>NaN</td>\n",
       "      <td>0.00</td>\n",
       "      <td>0.0</td>\n",
       "    </tr>\n",
       "    <tr>\n",
       "      <th>36886</th>\n",
       "      <td>37593</td>\n",
       "      <td>2017</td>\n",
       "      <td>Acura</td>\n",
       "      <td>MDX AWD</td>\n",
       "      <td>Small Sport Utility Vehicle 4WD</td>\n",
       "      <td>All-Wheel Drive</td>\n",
       "      <td>Automatic (S9)</td>\n",
       "      <td>NaN</td>\n",
       "      <td>22</td>\n",
       "      <td>SIDI; Stop-Start</td>\n",
       "      <td>...</td>\n",
       "      <td>0.0</td>\n",
       "      <td>0</td>\n",
       "      <td>0</td>\n",
       "      <td>0</td>\n",
       "      <td>0</td>\n",
       "      <td>0.0</td>\n",
       "      <td>0.0</td>\n",
       "      <td>NaN</td>\n",
       "      <td>0.00</td>\n",
       "      <td>0.0</td>\n",
       "    </tr>\n",
       "    <tr>\n",
       "      <th>36887</th>\n",
       "      <td>37594</td>\n",
       "      <td>2017</td>\n",
       "      <td>Acura</td>\n",
       "      <td>MDX AWD</td>\n",
       "      <td>Small Sport Utility Vehicle 4WD</td>\n",
       "      <td>All-Wheel Drive</td>\n",
       "      <td>Automatic (S9)</td>\n",
       "      <td>NaN</td>\n",
       "      <td>23</td>\n",
       "      <td>SIDI</td>\n",
       "      <td>...</td>\n",
       "      <td>0.0</td>\n",
       "      <td>0</td>\n",
       "      <td>0</td>\n",
       "      <td>0</td>\n",
       "      <td>0</td>\n",
       "      <td>0.0</td>\n",
       "      <td>0.0</td>\n",
       "      <td>NaN</td>\n",
       "      <td>0.00</td>\n",
       "      <td>0.0</td>\n",
       "    </tr>\n",
       "    <tr>\n",
       "      <th>36888</th>\n",
       "      <td>37591</td>\n",
       "      <td>2017</td>\n",
       "      <td>Acura</td>\n",
       "      <td>MDX FWD</td>\n",
       "      <td>Small Sport Utility Vehicle 2WD</td>\n",
       "      <td>Front-Wheel Drive</td>\n",
       "      <td>Automatic (S9)</td>\n",
       "      <td>NaN</td>\n",
       "      <td>20</td>\n",
       "      <td>SIDI; Stop-Start</td>\n",
       "      <td>...</td>\n",
       "      <td>0.0</td>\n",
       "      <td>0</td>\n",
       "      <td>0</td>\n",
       "      <td>0</td>\n",
       "      <td>0</td>\n",
       "      <td>0.0</td>\n",
       "      <td>0.0</td>\n",
       "      <td>NaN</td>\n",
       "      <td>0.00</td>\n",
       "      <td>0.0</td>\n",
       "    </tr>\n",
       "    <tr>\n",
       "      <th>36889</th>\n",
       "      <td>37592</td>\n",
       "      <td>2017</td>\n",
       "      <td>Acura</td>\n",
       "      <td>MDX FWD</td>\n",
       "      <td>Small Sport Utility Vehicle 2WD</td>\n",
       "      <td>Front-Wheel Drive</td>\n",
       "      <td>Automatic (S9)</td>\n",
       "      <td>NaN</td>\n",
       "      <td>21</td>\n",
       "      <td>SIDI</td>\n",
       "      <td>...</td>\n",
       "      <td>0.0</td>\n",
       "      <td>0</td>\n",
       "      <td>0</td>\n",
       "      <td>0</td>\n",
       "      <td>0</td>\n",
       "      <td>0.0</td>\n",
       "      <td>0.0</td>\n",
       "      <td>NaN</td>\n",
       "      <td>0.00</td>\n",
       "      <td>0.0</td>\n",
       "    </tr>\n",
       "    <tr>\n",
       "      <th>...</th>\n",
       "      <td>...</td>\n",
       "      <td>...</td>\n",
       "      <td>...</td>\n",
       "      <td>...</td>\n",
       "      <td>...</td>\n",
       "      <td>...</td>\n",
       "      <td>...</td>\n",
       "      <td>...</td>\n",
       "      <td>...</td>\n",
       "      <td>...</td>\n",
       "      <td>...</td>\n",
       "      <td>...</td>\n",
       "      <td>...</td>\n",
       "      <td>...</td>\n",
       "      <td>...</td>\n",
       "      <td>...</td>\n",
       "      <td>...</td>\n",
       "      <td>...</td>\n",
       "      <td>...</td>\n",
       "      <td>...</td>\n",
       "      <td>...</td>\n",
       "    </tr>\n",
       "    <tr>\n",
       "      <th>38108</th>\n",
       "      <td>37564</td>\n",
       "      <td>2017</td>\n",
       "      <td>Volvo</td>\n",
       "      <td>XC60 FWD</td>\n",
       "      <td>Small Sport Utility Vehicle 2WD</td>\n",
       "      <td>Front-Wheel Drive</td>\n",
       "      <td>Automatic (S8)</td>\n",
       "      <td>NaN</td>\n",
       "      <td>90</td>\n",
       "      <td>SIDI</td>\n",
       "      <td>...</td>\n",
       "      <td>0.0</td>\n",
       "      <td>0</td>\n",
       "      <td>0</td>\n",
       "      <td>0</td>\n",
       "      <td>0</td>\n",
       "      <td>0.0</td>\n",
       "      <td>0.0</td>\n",
       "      <td>NaN</td>\n",
       "      <td>0.00</td>\n",
       "      <td>0.0</td>\n",
       "    </tr>\n",
       "    <tr>\n",
       "      <th>38109</th>\n",
       "      <td>37547</td>\n",
       "      <td>2017</td>\n",
       "      <td>Volvo</td>\n",
       "      <td>XC90 AWD</td>\n",
       "      <td>Standard Sport Utility Vehicle 4WD</td>\n",
       "      <td>All-Wheel Drive</td>\n",
       "      <td>Automatic (S8)</td>\n",
       "      <td>NaN</td>\n",
       "      <td>52</td>\n",
       "      <td>SIDI</td>\n",
       "      <td>...</td>\n",
       "      <td>0.0</td>\n",
       "      <td>0</td>\n",
       "      <td>0</td>\n",
       "      <td>0</td>\n",
       "      <td>0</td>\n",
       "      <td>0.0</td>\n",
       "      <td>0.0</td>\n",
       "      <td>NaN</td>\n",
       "      <td>0.00</td>\n",
       "      <td>0.0</td>\n",
       "    </tr>\n",
       "    <tr>\n",
       "      <th>38110</th>\n",
       "      <td>37548</td>\n",
       "      <td>2017</td>\n",
       "      <td>Volvo</td>\n",
       "      <td>XC90 AWD</td>\n",
       "      <td>Standard Sport Utility Vehicle 4WD</td>\n",
       "      <td>All-Wheel Drive</td>\n",
       "      <td>Automatic (S8)</td>\n",
       "      <td>NaN</td>\n",
       "      <td>53</td>\n",
       "      <td>SIDI</td>\n",
       "      <td>...</td>\n",
       "      <td>0.0</td>\n",
       "      <td>0</td>\n",
       "      <td>0</td>\n",
       "      <td>0</td>\n",
       "      <td>0</td>\n",
       "      <td>0.0</td>\n",
       "      <td>0.0</td>\n",
       "      <td>NaN</td>\n",
       "      <td>0.00</td>\n",
       "      <td>0.0</td>\n",
       "    </tr>\n",
       "    <tr>\n",
       "      <th>38111</th>\n",
       "      <td>37703</td>\n",
       "      <td>2017</td>\n",
       "      <td>Volvo</td>\n",
       "      <td>XC90 AWD PHEV</td>\n",
       "      <td>Standard Sport Utility Vehicle 4WD</td>\n",
       "      <td>All-Wheel Drive</td>\n",
       "      <td>Automatic (S8)</td>\n",
       "      <td>NaN</td>\n",
       "      <td>54</td>\n",
       "      <td>SIDI; PHEV</td>\n",
       "      <td>...</td>\n",
       "      <td>0.0</td>\n",
       "      <td>29</td>\n",
       "      <td>32</td>\n",
       "      <td>30</td>\n",
       "      <td>0</td>\n",
       "      <td>0.0</td>\n",
       "      <td>0.0</td>\n",
       "      <td>14</td>\n",
       "      <td>13.84</td>\n",
       "      <td>13.3</td>\n",
       "    </tr>\n",
       "    <tr>\n",
       "      <th>38112</th>\n",
       "      <td>37687</td>\n",
       "      <td>2017</td>\n",
       "      <td>Volvo</td>\n",
       "      <td>XC90 FWD</td>\n",
       "      <td>Standard Sport Utility Vehicle 2WD</td>\n",
       "      <td>Front-Wheel Drive</td>\n",
       "      <td>Automatic (S8)</td>\n",
       "      <td>NaN</td>\n",
       "      <td>50</td>\n",
       "      <td>SIDI</td>\n",
       "      <td>...</td>\n",
       "      <td>0.0</td>\n",
       "      <td>0</td>\n",
       "      <td>0</td>\n",
       "      <td>0</td>\n",
       "      <td>0</td>\n",
       "      <td>0.0</td>\n",
       "      <td>0.0</td>\n",
       "      <td>NaN</td>\n",
       "      <td>0.00</td>\n",
       "      <td>0.0</td>\n",
       "    </tr>\n",
       "  </tbody>\n",
       "</table>\n",
       "<p>1228 rows × 81 columns</p>\n",
       "</div>"
      ],
      "text/plain": [
       "       Vehicle ID  Year   Make          Model  \\\n",
       "36885       37378  2017  Acura            ILX   \n",
       "36886       37593  2017  Acura        MDX AWD   \n",
       "36887       37594  2017  Acura        MDX AWD   \n",
       "36888       37591  2017  Acura        MDX FWD   \n",
       "36889       37592  2017  Acura        MDX FWD   \n",
       "...           ...   ...    ...            ...   \n",
       "38108       37564  2017  Volvo       XC60 FWD   \n",
       "38109       37547  2017  Volvo       XC90 AWD   \n",
       "38110       37548  2017  Volvo       XC90 AWD   \n",
       "38111       37703  2017  Volvo  XC90 AWD PHEV   \n",
       "38112       37687  2017  Volvo       XC90 FWD   \n",
       "\n",
       "                                    Class              Drive    Transmission  \\\n",
       "36885                        Compact Cars  Front-Wheel Drive     Auto(AM-S8)   \n",
       "36886     Small Sport Utility Vehicle 4WD    All-Wheel Drive  Automatic (S9)   \n",
       "36887     Small Sport Utility Vehicle 4WD    All-Wheel Drive  Automatic (S9)   \n",
       "36888     Small Sport Utility Vehicle 2WD  Front-Wheel Drive  Automatic (S9)   \n",
       "36889     Small Sport Utility Vehicle 2WD  Front-Wheel Drive  Automatic (S9)   \n",
       "...                                   ...                ...             ...   \n",
       "38108     Small Sport Utility Vehicle 2WD  Front-Wheel Drive  Automatic (S8)   \n",
       "38109  Standard Sport Utility Vehicle 4WD    All-Wheel Drive  Automatic (S8)   \n",
       "38110  Standard Sport Utility Vehicle 4WD    All-Wheel Drive  Automatic (S8)   \n",
       "38111  Standard Sport Utility Vehicle 4WD    All-Wheel Drive  Automatic (S8)   \n",
       "38112  Standard Sport Utility Vehicle 2WD  Front-Wheel Drive  Automatic (S8)   \n",
       "\n",
       "      Transmission Descriptor  Engine Index Engine Descriptor  ...  \\\n",
       "36885                     NaN             4              SIDI  ...   \n",
       "36886                     NaN            22  SIDI; Stop-Start  ...   \n",
       "36887                     NaN            23              SIDI  ...   \n",
       "36888                     NaN            20  SIDI; Stop-Start  ...   \n",
       "36889                     NaN            21              SIDI  ...   \n",
       "...                       ...           ...               ...  ...   \n",
       "38108                     NaN            90              SIDI  ...   \n",
       "38109                     NaN            52              SIDI  ...   \n",
       "38110                     NaN            53              SIDI  ...   \n",
       "38111                     NaN            54        SIDI; PHEV  ...   \n",
       "38112                     NaN            50              SIDI  ...   \n",
       "\n",
       "       Hours to Charge (AC 240V)  Composite City MPG Composite Highway MPG  \\\n",
       "36885                        0.0                   0                     0   \n",
       "36886                        0.0                   0                     0   \n",
       "36887                        0.0                   0                     0   \n",
       "36888                        0.0                   0                     0   \n",
       "36889                        0.0                   0                     0   \n",
       "...                          ...                 ...                   ...   \n",
       "38108                        0.0                   0                     0   \n",
       "38109                        0.0                   0                     0   \n",
       "38110                        0.0                   0                     0   \n",
       "38111                        0.0                  29                    32   \n",
       "38112                        0.0                   0                     0   \n",
       "\n",
       "      Composite Combined MPG Range (FT1) City Range (FT1) Highway Range (FT1)  \\\n",
       "36885                      0           0              0.0                 0.0   \n",
       "36886                      0           0              0.0                 0.0   \n",
       "36887                      0           0              0.0                 0.0   \n",
       "36888                      0           0              0.0                 0.0   \n",
       "36889                      0           0              0.0                 0.0   \n",
       "...                      ...         ...              ...                 ...   \n",
       "38108                      0           0              0.0                 0.0   \n",
       "38109                      0           0              0.0                 0.0   \n",
       "38110                      0           0              0.0                 0.0   \n",
       "38111                     30           0              0.0                 0.0   \n",
       "38112                      0           0              0.0                 0.0   \n",
       "\n",
       "       Range (FT2)  City Range (FT2)  Highway Range (FT2)  \n",
       "36885          NaN              0.00                  0.0  \n",
       "36886          NaN              0.00                  0.0  \n",
       "36887          NaN              0.00                  0.0  \n",
       "36888          NaN              0.00                  0.0  \n",
       "36889          NaN              0.00                  0.0  \n",
       "...            ...               ...                  ...  \n",
       "38108          NaN              0.00                  0.0  \n",
       "38109          NaN              0.00                  0.0  \n",
       "38110          NaN              0.00                  0.0  \n",
       "38111           14             13.84                 13.3  \n",
       "38112          NaN              0.00                  0.0  \n",
       "\n",
       "[1228 rows x 81 columns]"
      ]
     },
     "execution_count": 16,
     "metadata": {},
     "output_type": "execute_result"
    }
   ],
   "source": [
    "cleaned_data2 = fuel_cost.loc[fuel_cost['Year'] == 2017]\n",
    "cleaned_data2"
   ]
  },
  {
   "cell_type": "code",
   "execution_count": 17,
   "metadata": {},
   "outputs": [
    {
     "data": {
      "text/plain": [
       "36885    1450\n",
       "36886    1900\n",
       "36887    2000\n",
       "36888    1850\n",
       "36889    1900\n",
       "         ... \n",
       "38108    1350\n",
       "38109    1900\n",
       "38110    1850\n",
       "38111    1700\n",
       "38112    1750\n",
       "Name: Annual Fuel Cost (FT1), Length: 1228, dtype: int64"
      ]
     },
     "execution_count": 17,
     "metadata": {},
     "output_type": "execute_result"
    }
   ],
   "source": [
    "fuel_cost2017 = cleaned_data2['Annual Fuel Cost (FT1)']\n",
    "fuel_cost2017"
   ]
  },
  {
   "cell_type": "code",
   "execution_count": 67,
   "metadata": {},
   "outputs": [
    {
     "name": "stdout",
     "output_type": "stream",
     "text": [
      "36885    Automatic\n",
      "36886    Automatic\n",
      "36887    Automatic\n",
      "36888    Automatic\n",
      "36889    Automatic\n",
      "           ...    \n",
      "38108    Automatic\n",
      "38109    Automatic\n",
      "38110    Automatic\n",
      "38111    Automatic\n",
      "38112    Automatic\n",
      "Name: Transmission, Length: 1045, dtype: object\n",
      "36885    1450\n",
      "36886    1900\n",
      "36887    2000\n",
      "36888    1850\n",
      "36889    1900\n",
      "         ... \n",
      "38108    1350\n",
      "38109    1900\n",
      "38110    1850\n",
      "38111    1700\n",
      "38112    1750\n",
      "Name: Annual Fuel Cost (FT1), Length: 1045, dtype: int64\n"
     ]
    },
    {
     "ename": "ValueError",
     "evalue": "If using all scalar values, you must pass an index",
     "output_type": "error",
     "traceback": [
      "\u001b[0;31m---------------------------------------------------------------------------\u001b[0m",
      "\u001b[0;31mValueError\u001b[0m                                Traceback (most recent call last)",
      "\u001b[0;32m<ipython-input-67-aba6c90b8b7b>\u001b[0m in \u001b[0;36m<module>\u001b[0;34m\u001b[0m\n\u001b[1;32m     36\u001b[0m \u001b[0;34m\u001b[0m\u001b[0m\n\u001b[1;32m     37\u001b[0m transmit_2017_auto = pd.DataFrame({\"Automatic\" : 'transmit_2017_auto',\n\u001b[0;32m---> 38\u001b[0;31m                                   \"Fuel Cost\" : 'transmit_2017_a_fuel'})\n\u001b[0m\u001b[1;32m     39\u001b[0m \u001b[0mtransmit_2017_auto\u001b[0m\u001b[0;34m\u001b[0m\u001b[0;34m\u001b[0m\u001b[0m\n\u001b[1;32m     40\u001b[0m \u001b[0;34m\u001b[0m\u001b[0m\n",
      "\u001b[0;32m~/opt/anaconda3/envs/PythonData/lib/python3.6/site-packages/pandas/core/frame.py\u001b[0m in \u001b[0;36m__init__\u001b[0;34m(self, data, index, columns, dtype, copy)\u001b[0m\n\u001b[1;32m    433\u001b[0m             )\n\u001b[1;32m    434\u001b[0m         \u001b[0;32melif\u001b[0m \u001b[0misinstance\u001b[0m\u001b[0;34m(\u001b[0m\u001b[0mdata\u001b[0m\u001b[0;34m,\u001b[0m \u001b[0mdict\u001b[0m\u001b[0;34m)\u001b[0m\u001b[0;34m:\u001b[0m\u001b[0;34m\u001b[0m\u001b[0;34m\u001b[0m\u001b[0m\n\u001b[0;32m--> 435\u001b[0;31m             \u001b[0mmgr\u001b[0m \u001b[0;34m=\u001b[0m \u001b[0minit_dict\u001b[0m\u001b[0;34m(\u001b[0m\u001b[0mdata\u001b[0m\u001b[0;34m,\u001b[0m \u001b[0mindex\u001b[0m\u001b[0;34m,\u001b[0m \u001b[0mcolumns\u001b[0m\u001b[0;34m,\u001b[0m \u001b[0mdtype\u001b[0m\u001b[0;34m=\u001b[0m\u001b[0mdtype\u001b[0m\u001b[0;34m)\u001b[0m\u001b[0;34m\u001b[0m\u001b[0;34m\u001b[0m\u001b[0m\n\u001b[0m\u001b[1;32m    436\u001b[0m         \u001b[0;32melif\u001b[0m \u001b[0misinstance\u001b[0m\u001b[0;34m(\u001b[0m\u001b[0mdata\u001b[0m\u001b[0;34m,\u001b[0m \u001b[0mma\u001b[0m\u001b[0;34m.\u001b[0m\u001b[0mMaskedArray\u001b[0m\u001b[0;34m)\u001b[0m\u001b[0;34m:\u001b[0m\u001b[0;34m\u001b[0m\u001b[0;34m\u001b[0m\u001b[0m\n\u001b[1;32m    437\u001b[0m             \u001b[0;32mimport\u001b[0m \u001b[0mnumpy\u001b[0m\u001b[0;34m.\u001b[0m\u001b[0mma\u001b[0m\u001b[0;34m.\u001b[0m\u001b[0mmrecords\u001b[0m \u001b[0;32mas\u001b[0m \u001b[0mmrecords\u001b[0m\u001b[0;34m\u001b[0m\u001b[0;34m\u001b[0m\u001b[0m\n",
      "\u001b[0;32m~/opt/anaconda3/envs/PythonData/lib/python3.6/site-packages/pandas/core/internals/construction.py\u001b[0m in \u001b[0;36minit_dict\u001b[0;34m(data, index, columns, dtype)\u001b[0m\n\u001b[1;32m    252\u001b[0m             \u001b[0marr\u001b[0m \u001b[0;32mif\u001b[0m \u001b[0;32mnot\u001b[0m \u001b[0mis_datetime64tz_dtype\u001b[0m\u001b[0;34m(\u001b[0m\u001b[0marr\u001b[0m\u001b[0;34m)\u001b[0m \u001b[0;32melse\u001b[0m \u001b[0marr\u001b[0m\u001b[0;34m.\u001b[0m\u001b[0mcopy\u001b[0m\u001b[0;34m(\u001b[0m\u001b[0;34m)\u001b[0m \u001b[0;32mfor\u001b[0m \u001b[0marr\u001b[0m \u001b[0;32min\u001b[0m \u001b[0marrays\u001b[0m\u001b[0;34m\u001b[0m\u001b[0;34m\u001b[0m\u001b[0m\n\u001b[1;32m    253\u001b[0m         ]\n\u001b[0;32m--> 254\u001b[0;31m     \u001b[0;32mreturn\u001b[0m \u001b[0marrays_to_mgr\u001b[0m\u001b[0;34m(\u001b[0m\u001b[0marrays\u001b[0m\u001b[0;34m,\u001b[0m \u001b[0mdata_names\u001b[0m\u001b[0;34m,\u001b[0m \u001b[0mindex\u001b[0m\u001b[0;34m,\u001b[0m \u001b[0mcolumns\u001b[0m\u001b[0;34m,\u001b[0m \u001b[0mdtype\u001b[0m\u001b[0;34m=\u001b[0m\u001b[0mdtype\u001b[0m\u001b[0;34m)\u001b[0m\u001b[0;34m\u001b[0m\u001b[0;34m\u001b[0m\u001b[0m\n\u001b[0m\u001b[1;32m    255\u001b[0m \u001b[0;34m\u001b[0m\u001b[0m\n\u001b[1;32m    256\u001b[0m \u001b[0;34m\u001b[0m\u001b[0m\n",
      "\u001b[0;32m~/opt/anaconda3/envs/PythonData/lib/python3.6/site-packages/pandas/core/internals/construction.py\u001b[0m in \u001b[0;36marrays_to_mgr\u001b[0;34m(arrays, arr_names, index, columns, dtype)\u001b[0m\n\u001b[1;32m     62\u001b[0m     \u001b[0;31m# figure out the index, if necessary\u001b[0m\u001b[0;34m\u001b[0m\u001b[0;34m\u001b[0m\u001b[0;34m\u001b[0m\u001b[0m\n\u001b[1;32m     63\u001b[0m     \u001b[0;32mif\u001b[0m \u001b[0mindex\u001b[0m \u001b[0;32mis\u001b[0m \u001b[0;32mNone\u001b[0m\u001b[0;34m:\u001b[0m\u001b[0;34m\u001b[0m\u001b[0;34m\u001b[0m\u001b[0m\n\u001b[0;32m---> 64\u001b[0;31m         \u001b[0mindex\u001b[0m \u001b[0;34m=\u001b[0m \u001b[0mextract_index\u001b[0m\u001b[0;34m(\u001b[0m\u001b[0marrays\u001b[0m\u001b[0;34m)\u001b[0m\u001b[0;34m\u001b[0m\u001b[0;34m\u001b[0m\u001b[0m\n\u001b[0m\u001b[1;32m     65\u001b[0m     \u001b[0;32melse\u001b[0m\u001b[0;34m:\u001b[0m\u001b[0;34m\u001b[0m\u001b[0;34m\u001b[0m\u001b[0m\n\u001b[1;32m     66\u001b[0m         \u001b[0mindex\u001b[0m \u001b[0;34m=\u001b[0m \u001b[0mensure_index\u001b[0m\u001b[0;34m(\u001b[0m\u001b[0mindex\u001b[0m\u001b[0;34m)\u001b[0m\u001b[0;34m\u001b[0m\u001b[0;34m\u001b[0m\u001b[0m\n",
      "\u001b[0;32m~/opt/anaconda3/envs/PythonData/lib/python3.6/site-packages/pandas/core/internals/construction.py\u001b[0m in \u001b[0;36mextract_index\u001b[0;34m(data)\u001b[0m\n\u001b[1;32m    353\u001b[0m \u001b[0;34m\u001b[0m\u001b[0m\n\u001b[1;32m    354\u001b[0m         \u001b[0;32mif\u001b[0m \u001b[0;32mnot\u001b[0m \u001b[0mindexes\u001b[0m \u001b[0;32mand\u001b[0m \u001b[0;32mnot\u001b[0m \u001b[0mraw_lengths\u001b[0m\u001b[0;34m:\u001b[0m\u001b[0;34m\u001b[0m\u001b[0;34m\u001b[0m\u001b[0m\n\u001b[0;32m--> 355\u001b[0;31m             \u001b[0;32mraise\u001b[0m \u001b[0mValueError\u001b[0m\u001b[0;34m(\u001b[0m\u001b[0;34m\"If using all scalar values, you must pass an index\"\u001b[0m\u001b[0;34m)\u001b[0m\u001b[0;34m\u001b[0m\u001b[0;34m\u001b[0m\u001b[0m\n\u001b[0m\u001b[1;32m    356\u001b[0m \u001b[0;34m\u001b[0m\u001b[0m\n\u001b[1;32m    357\u001b[0m         \u001b[0;32mif\u001b[0m \u001b[0mhave_series\u001b[0m\u001b[0;34m:\u001b[0m\u001b[0;34m\u001b[0m\u001b[0;34m\u001b[0m\u001b[0m\n",
      "\u001b[0;31mValueError\u001b[0m: If using all scalar values, you must pass an index"
     ]
    }
   ],
   "source": [
    "transmit_2017 = cleaned_data2.replace({'Auto(AM-S8)' : 'Automatic', \n",
    "                                        'Automatic (S9)' : 'Automatic', \n",
    "                                        'Auto(AM-S9)' : 'Automatic',\n",
    "                                        'Automatic (S6)': 'Automatic', \n",
    "                                        'Auto(AM-S7)' : 'Automatic', \n",
    "                                        'Auto(AM6)' : 'Automatic', \n",
    "                                        'Automatic 8-Speed': 'Automatic', \n",
    "                                        'Automatic (S8)' : 'Automatic', \n",
    "                                        'Auto(AM7)' : 'Automatic', \n",
    "                                        'Manual(M7)' : 'Manual', \n",
    "                                        'Auto(AM-S6)': 'Automatic', \n",
    "                                        'Manual 6-Speed' : 'Manual', \n",
    "                                        'Automatic (A1)' :'Automatic', \n",
    "                                        'Automatic 6-Speed' : 'Automatic', \n",
    "                                        'Automatic (S10)' : 'Automatic', \n",
    "                                        'Automatic (variable gear ratios)' : 'Automatic', \n",
    "                                        'Manual 7-Speed' : 'Manual', \n",
    "                                        'Automatic 9-Speed' : 'Automatic', \n",
    "                                        'Manual 5-Speed' : 'Manual', \n",
    "                                        'Automatic 4-Speed' : 'Automatic',\n",
    "                                        'Auto(AV-S7)' : 'Automatic', \n",
    "                                        'Automatic (S7)' : 'Automatic', \n",
    "                                        'Automatic 5-Speed' : 'Automatic', \n",
    "                                        'Auto(AV-S6)' : 'Automatic', \n",
    "                                        'Auto(AV-S8)' : 'Automatic', \n",
    "                                        'Automatic 7-Speed' : 'Automatic', \n",
    "                                        'Auto(AM8)' : 'Automatic',\n",
    "                                        'Automatic (S5)' : 'Automatic'})\n",
    "\n",
    "transmit_2017_a = transmit_2017.loc[transmit_2017['Transmission'] == 'Automatic']\n",
    "transmit_2017_auto = transmit_2017_a['Transmission']\n",
    "transmit_2017_a_fuel = transmit_2017_a['Annual Fuel Cost (FT1)']\n",
    "# print(len(transmit_2017_a))\n",
    "print(transmit_2017_auto)\n",
    "print(transmit_2017_a_fuel)\n",
    "\n",
    "transmit_2017_auto = pd.DataFrame({\"Automatic\" : 'Transmisi',\n",
    "                                  \"Fuel Cost\" : 'transmit_2017_a_fuel'})\n",
    "transmit_2017_auto\n",
    "\n",
    "# transmit_2017_m = transmit_2017.loc[transmit_2017['Transmission'] == 'Manual']\n",
    "# transmit_2017_m = transmit_2017_m['Transmission']\n",
    "# print(len(transmit_2017_m))"
   ]
  },
  {
   "cell_type": "code",
   "execution_count": null,
   "metadata": {},
   "outputs": [],
   "source": []
  },
  {
   "cell_type": "code",
   "execution_count": 64,
   "metadata": {},
   "outputs": [
    {
     "data": {
      "text/plain": [
       "[<matplotlib.lines.Line2D at 0x7fd421773f60>]"
      ]
     },
     "execution_count": 64,
     "metadata": {},
     "output_type": "execute_result"
    },
    {
     "data": {
      "image/png": "[encoded data removed]",
      "text/plain": [
       "<Figure size 432x288 with 1 Axes>"
      ]
     },
     "metadata": {
      "needs_background": "light"
     },
     "output_type": "display_data"
    }
   ],
   "source": [
    "plt.plot(transmit_2017_a_fuel, transmit_2017_auto)"
   ]
  },
  {
   "cell_type": "code",
   "execution_count": 35,
   "metadata": {},
   "outputs": [
    {
     "data": {
      "text/plain": [
       "36885    Automatic\n",
       "36886    Automatic\n",
       "36887    Automatic\n",
       "36888    Automatic\n",
       "36889    Automatic\n",
       "Name: Transmission, dtype: object"
      ]
     },
     "execution_count": 35,
     "metadata": {},
     "output_type": "execute_result"
    }
   ],
   "source": [
    "transmit_2017 = cleaned_data2['Transmission']\n",
    "transmit_2017.unique()\n",
    "transmit_2017 = transmit_2017.replace ({'Auto(AM-S8)' : 'Automatic', \n",
    "                                        'Automatic (S9)' : 'Automatic', \n",
    "                                        'Auto(AM-S9)' : 'Automatic',\n",
    "                                        'Automatic (S6)': 'Automatic', \n",
    "                                        'Auto(AM-S7)' : 'Automatic', \n",
    "                                        'Auto(AM6)' : 'Automatic', \n",
    "                                        'Automatic 8-Speed': 'Automatic', \n",
    "                                        'Automatic (S8)' : 'Automatic', \n",
    "                                        'Auto(AM7)' : 'Automatic', \n",
    "                                        'Manual(M7)' : 'Manual', \n",
    "                                        'Auto(AM-S6)': 'Automatic', \n",
    "                                        'Manual 6-Speed' : 'Manual', \n",
    "                                        'Automatic (A1)' :'Automatic', \n",
    "                                        'Automatic 6-Speed' : 'Automatic', \n",
    "                                        'Automatic (S10)' : 'Automatic', \n",
    "                                        'Automatic (variable gear ratios)' : 'Automatic', \n",
    "                                        'Manual 7-Speed' : 'Manual', \n",
    "                                        'Automatic 9-Speed' : 'Automatic', \n",
    "                                        'Manual 5-Speed' : 'Manual', \n",
    "                                        'Automatic 4-Speed' : 'Automatic',\n",
    "                                        'Auto(AV-S7)' : 'Automatic', \n",
    "                                        'Automatic (S7)' : 'Automatic', \n",
    "                                        'Automatic 5-Speed' : 'Automatic', \n",
    "                                        'Auto(AV-S6)' : 'Automatic', \n",
    "                                        'Auto(AV-S8)' : 'Automatic', \n",
    "                                        'Automatic 7-Speed' : 'Automatic', \n",
    "                                        'Auto(AM8)' : 'Automatic',\n",
    "                                        'Automatic (S5)' : 'Automatic'})\n",
    "#transmit_2017_a = transmit_2017.groupby\n",
    "transmit_2017.head()"
   ]
  },
  {
   "cell_type": "code",
   "execution_count": 19,
   "metadata": {},
   "outputs": [
    {
     "data": {
      "text/plain": [
       "36885    Front-Wheel Drive\n",
       "36886      All-Wheel Drive\n",
       "36887      All-Wheel Drive\n",
       "36888    Front-Wheel Drive\n",
       "36889    Front-Wheel Drive\n",
       "               ...        \n",
       "38108    Front-Wheel Drive\n",
       "38109      All-Wheel Drive\n",
       "38110      All-Wheel Drive\n",
       "38111      All-Wheel Drive\n",
       "38112    Front-Wheel Drive\n",
       "Name: Drive, Length: 1228, dtype: object"
      ]
     },
     "execution_count": 19,
     "metadata": {},
     "output_type": "execute_result"
    }
   ],
   "source": [
    "drive_2017 = cleaned_data2['Drive']\n",
    "drive_2017"
   ]
  },
  {
   "cell_type": "code",
   "execution_count": 20,
   "metadata": {},
   "outputs": [
    {
     "data": {
      "text/plain": [
       "36885    4.0\n",
       "36886    6.0\n",
       "36887    6.0\n",
       "36888    6.0\n",
       "36889    6.0\n",
       "        ... \n",
       "38108    4.0\n",
       "38109    4.0\n",
       "38110    4.0\n",
       "38111    4.0\n",
       "38112    4.0\n",
       "Name: Engine Cylinders, Length: 1228, dtype: float64"
      ]
     },
     "execution_count": 20,
     "metadata": {},
     "output_type": "execute_result"
    }
   ],
   "source": [
    "engine_2017 = cleaned_data2['Engine Cylinders']\n",
    "engine_2017"
   ]
  },
  {
   "cell_type": "code",
   "execution_count": 21,
   "metadata": {},
   "outputs": [
    {
     "data": {
      "text/plain": [
       "36885    Premium Gasoline\n",
       "36886    Premium Gasoline\n",
       "36887    Premium Gasoline\n",
       "36888    Premium Gasoline\n",
       "36889    Premium Gasoline\n",
       "               ...       \n",
       "38108    Regular Gasoline\n",
       "38109    Premium Gasoline\n",
       "38110    Premium Gasoline\n",
       "38111    Premium Gasoline\n",
       "38112    Premium Gasoline\n",
       "Name: Fuel Type 1, Length: 1228, dtype: object"
      ]
     },
     "execution_count": 21,
     "metadata": {},
     "output_type": "execute_result"
    }
   ],
   "source": [
    "fuel_type2017 = cleaned_data2['Fuel Type 1']\n",
    "fuel_type2017"
   ]
  },
  {
   "cell_type": "code",
   "execution_count": 31,
   "metadata": {},
   "outputs": [
    {
     "data": {
      "text/plain": [
       "[<matplotlib.lines.Line2D at 0x7fd4209732b0>]"
      ]
     },
     "execution_count": 31,
     "metadata": {},
     "output_type": "execute_result"
    },
    {
     "data": {
      "image/png": "[encoded data removed]",
      "text/plain": [
       "<Figure size 432x288 with 1 Axes>"
      ]
     },
     "metadata": {
      "needs_background": "light"
     },
     "output_type": "display_data"
    }
   ],
   "source": [
    "#Fuel cost v transmission\n",
    "\n",
    "plt.plot(fuel_cost2017, transmit_2017)"
   ]
  }
 ],
 "metadata": {
  "kernelspec": {
   "display_name": "Python [conda env:PythonData] *",
   "language": "python",
   "name": "conda-env-PythonData-py"
  },
  "language_info": {
   "codemirror_mode": {
    "name": "ipython",
    "version": 3
   },
   "file_extension": ".py",
   "mimetype": "text/x-python",
   "name": "python",
   "nbconvert_exporter": "python",
   "pygments_lexer": "ipython3",
   "version": "3.6.10"
  }
 },
 "nbformat": 4,
 "nbformat_minor": 4
}
