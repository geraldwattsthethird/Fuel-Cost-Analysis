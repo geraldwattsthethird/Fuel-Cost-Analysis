{
 "cells": [
  {
   "cell_type": "code",
   "execution_count": null,
   "metadata": {},
   "outputs": [],
   "source": [
    "# Analysis of fuel cost over time\n",
    "\n",
    "# A study was created to determine if there was a correlation between the annual cost of fuel purchased each year between\n",
    "# 1984 and 2017. Based on the findings, it was found that there is a trend that appears. Between the years of 1984 and 2005\n",
    "# the fuel costs during that time increased and decreased steadily every 5 years or so. It wasn't until after 2005 that the\n",
    "# annual fuel cost decreased sharply. This may be due to a time where fuel prices started to increase sharply as well.\n",
    "# According to a study of the retail price of regular gasoline from 1990-2020, the average price per gallon never rose\n",
    "# past $1.50 until 2003. After that, it increased every year until 2008 where it peaked at $3.25. In 2009, it did experience\n",
    "# a decrease to $2.35, but that was shortlived as the prices continue to soar, eventually ending up as high as $3.62 in 2012.\n",
    "# After this time, the prices started to decrease and increase between $2 and $2.50 every year since that time. This\n",
    "# suggests that the auto manufacturer also worked on increasing the miles per gallon(MPG) of their vehicles in preparation\n",
    "# of the decrease in demand for fuel due to the rapidly rising costs. According to the average annual MPG from that same\n",
    "# time period of 1984-2017, the average MPG hovered from between 19 and 20 MPG every year until 2009 when it increased\n",
    "# steadily, eventually peaking at over 25 in 2016. This suggests that the technology to increase the MPG for automobiles\n",
    "# was very much involved during that time and that it kept up with the trend of the high rising cost of fuel.\n",
    "\n",
    "# Resource: https://www.statista.com/statistics/204740/retail-price-of-gasoline-in-the-united-states-since-1990/"
   ]
  },
  {
   "cell_type": "code",
   "execution_count": null,
   "metadata": {},
   "outputs": [],
   "source": [
    "# Analysis of fuel cost over time for Toyota and Porsche"
   ]
  },
  {
   "cell_type": "code",
   "execution_count": null,
   "metadata": {},
   "outputs": [],
   "source": [
    "# Examining factors that may affect fuel costs (Transmission, Drive, Engine Cylinders, Fuel Type)"
   ]
  }
 ],
 "metadata": {
  "kernelspec": {
   "display_name": "Python 3",
   "language": "python",
   "name": "python3"
  },
  "language_info": {
   "codemirror_mode": {
    "name": "ipython",
    "version": 3
   },
   "file_extension": ".py",
   "mimetype": "text/x-python",
   "name": "python",
   "nbconvert_exporter": "python",
   "pygments_lexer": "ipython3",
   "version": "3.8.5"
  }
 },
 "nbformat": 4,
 "nbformat_minor": 4
}
